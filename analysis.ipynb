{
 "cells": [
  {
   "cell_type": "markdown",
   "id": "f3551217",
   "metadata": {},
   "source": [
    "# Web Server Log Analysis - Python Take-Home Assessment"
   ]
  },
  {
   "cell_type": "markdown",
   "id": "98eb0efa",
   "metadata": {},
   "source": [
    "## Overview\n",
    "This assessment involves analyzing the Calgary HTTP dataset, which contains approximately one year's worth of HTTP requests to the University of Calgary's Computer Science web server. You'll work with real-world web server log data to extract meaningful insights and demonstrate your Python data analysis skills."
   ]
  },
  {
   "cell_type": "markdown",
   "id": "81debeba",
   "metadata": {},
   "source": [
    "## Part 1: Data Loading and Cleaning"
   ]
  },
  {
   "cell_type": "markdown",
   "id": "9e728b83",
   "metadata": {},
   "source": [
    "### Instructions\n",
    "\n",
    "* Work in the cells below - You can add as many cells as needed for data loading, cleaning, and exploration\n",
    "* Import required libraries\n",
    "* Implement data loading and cleaning - Create functions to download, parse, and clean the log data\n",
    "* Explore the data - Understand the structure and identify any data quality issues"
   ]
  },
  {
   "cell_type": "code",
   "execution_count": 91,
   "id": "b2c05313",
   "metadata": {},
   "outputs": [
    {
     "name": "stdout",
     "output_type": "stream",
     "text": [
      "Data loaded successfully. Preview:\n",
      "       0  1  2                      3       4                        5    6  \\\n",
      "0  local  -  -  [24/Oct/1994:13:41:41  -0600]  GET index.html HTTP/1.0  200   \n",
      "1  local  -  -  [24/Oct/1994:13:41:41  -0600]       GET 1.gif HTTP/1.0  200   \n",
      "2  local  -  -  [24/Oct/1994:13:43:13  -0600]  GET index.html HTTP/1.0  200   \n",
      "3  local  -  -  [24/Oct/1994:13:43:14  -0600]       GET 2.gif HTTP/1.0  200   \n",
      "4  local  -  -  [24/Oct/1994:13:43:15  -0600]       GET 3.gif HTTP/1.0  200   \n",
      "\n",
      "       7  \n",
      "0    150  \n",
      "1   1210  \n",
      "2   3185  \n",
      "3   2555  \n",
      "4  36403  \n"
     ]
    }
   ],
   "source": [
    "# You can write your code here for data loading, cleaning, and exploration. Add cells as necessary.\n",
    "\n",
    "import pandas as pd\n",
    "\n",
    "# Load the data into a DataFrame\n",
    "try:\n",
    "    df = pd.read_csv(\"access_log\", sep=\" \", header=None, on_bad_lines=\"skip\", encoding=\"latin-1\")\n",
    "    print(\"Data loaded successfully. Preview:\")\n",
    "    print(df.head())\n",
    "except FileNotFoundError:\n",
    "    print(\"Error: The file 'access_log' was not found.\")\n",
    "except Exception as e:\n",
    "    print(f\"An error occurred while loading the data: {e}\")\n"
   ]
  },
  {
   "cell_type": "code",
   "execution_count": 92,
   "id": "953a56ec",
   "metadata": {},
   "outputs": [],
   "source": [
    "df.drop(columns=4,inplace=True)\n"
   ]
  },
  {
   "cell_type": "code",
   "execution_count": 93,
   "id": "6a19a1dd",
   "metadata": {},
   "outputs": [],
   "source": [
    "df.columns =['remotehost', 'rfc931', 'authuser', 'date', 'request', 'status', 'bytes']"
   ]
  },
  {
   "cell_type": "code",
   "execution_count": 73,
   "id": "7e5a6968",
   "metadata": {},
   "outputs": [
    {
     "name": "stdout",
     "output_type": "stream",
     "text": [
      "<class 'pandas.core.frame.DataFrame'>\n",
      "RangeIndex: 726369 entries, 0 to 726368\n",
      "Data columns (total 7 columns):\n",
      " #   Column      Non-Null Count   Dtype \n",
      "---  ------      --------------   ----- \n",
      " 0   remotehost  726369 non-null  object\n",
      " 1   rfc931      724950 non-null  object\n",
      " 2   authuser    724877 non-null  object\n",
      " 3   date        724809 non-null  object\n",
      " 4   request     724755 non-null  object\n",
      " 5   status      726368 non-null  object\n",
      " 6   bytes       724728 non-null  object\n",
      "dtypes: object(7)\n",
      "memory usage: 38.8+ MB\n"
     ]
    }
   ],
   "source": [
    "df.info()"
   ]
  },
  {
   "cell_type": "code",
   "execution_count": 59,
   "id": "226b075b",
   "metadata": {},
   "outputs": [
    {
     "data": {
      "text/html": [
       "<div>\n",
       "<style scoped>\n",
       "    .dataframe tbody tr th:only-of-type {\n",
       "        vertical-align: middle;\n",
       "    }\n",
       "\n",
       "    .dataframe tbody tr th {\n",
       "        vertical-align: top;\n",
       "    }\n",
       "\n",
       "    .dataframe thead th {\n",
       "        text-align: right;\n",
       "    }\n",
       "</style>\n",
       "<table border=\"1\" class=\"dataframe\">\n",
       "  <thead>\n",
       "    <tr style=\"text-align: right;\">\n",
       "      <th></th>\n",
       "      <th>remotehost</th>\n",
       "      <th>rfc931</th>\n",
       "      <th>authuser</th>\n",
       "      <th>date</th>\n",
       "      <th>request</th>\n",
       "      <th>status</th>\n",
       "      <th>bytes</th>\n",
       "    </tr>\n",
       "  </thead>\n",
       "  <tbody>\n",
       "    <tr>\n",
       "      <th>count</th>\n",
       "      <td>726369</td>\n",
       "      <td>724950</td>\n",
       "      <td>724877</td>\n",
       "      <td>724809</td>\n",
       "      <td>724755</td>\n",
       "      <td>726368</td>\n",
       "      <td>724728</td>\n",
       "    </tr>\n",
       "    <tr>\n",
       "      <th>unique</th>\n",
       "      <td>2</td>\n",
       "      <td>33</td>\n",
       "      <td>77</td>\n",
       "      <td>603612</td>\n",
       "      <td>12395</td>\n",
       "      <td>30</td>\n",
       "      <td>10192</td>\n",
       "    </tr>\n",
       "    <tr>\n",
       "      <th>top</th>\n",
       "      <td>local</td>\n",
       "      <td>-</td>\n",
       "      <td>-</td>\n",
       "      <td>-0700]</td>\n",
       "      <td>GET index.html HTTP/1.0</td>\n",
       "      <td>200</td>\n",
       "      <td>0</td>\n",
       "    </tr>\n",
       "    <tr>\n",
       "      <th>freq</th>\n",
       "      <td>374996</td>\n",
       "      <td>724775</td>\n",
       "      <td>724703</td>\n",
       "      <td>24</td>\n",
       "      <td>139147</td>\n",
       "      <td>568245</td>\n",
       "      <td>99097</td>\n",
       "    </tr>\n",
       "  </tbody>\n",
       "</table>\n",
       "</div>"
      ],
      "text/plain": [
       "       remotehost  rfc931 authuser    date                  request  status  \\\n",
       "count      726369  724950   724877  724809                   724755  726368   \n",
       "unique          2      33       77  603612                    12395      30   \n",
       "top         local       -        -  -0700]  GET index.html HTTP/1.0     200   \n",
       "freq       374996  724775   724703      24                   139147  568245   \n",
       "\n",
       "         bytes  \n",
       "count   724728  \n",
       "unique   10192  \n",
       "top          0  \n",
       "freq     99097  "
      ]
     },
     "execution_count": 59,
     "metadata": {},
     "output_type": "execute_result"
    }
   ],
   "source": [
    "df.describe()"
   ]
  },
  {
   "cell_type": "code",
   "execution_count": 60,
   "id": "f871221a",
   "metadata": {},
   "outputs": [
    {
     "data": {
      "text/plain": [
       "remotehost       0\n",
       "rfc931        1419\n",
       "authuser      1492\n",
       "date          1560\n",
       "request       1614\n",
       "status           1\n",
       "bytes         1641\n",
       "dtype: int64"
      ]
     },
     "execution_count": 60,
     "metadata": {},
     "output_type": "execute_result"
    }
   ],
   "source": [
    "df.isna().sum()\n"
   ]
  },
  {
   "cell_type": "code",
   "execution_count": 94,
   "id": "dd6b7b32",
   "metadata": {},
   "outputs": [
    {
     "name": "stdout",
     "output_type": "stream",
     "text": [
      "0   1994-10-24 13:41:41\n",
      "1   1994-10-24 13:41:41\n",
      "2   1994-10-24 13:43:13\n",
      "3   1994-10-24 13:43:14\n",
      "4   1994-10-24 13:43:15\n",
      "Name: date, dtype: datetime64[ns]\n"
     ]
    }
   ],
   "source": [
    "# Remove the leading bracket from the date string\n",
    "df['date'] = df['date'].str.lstrip('[')\n",
    "\n",
    "# Convert to datetime\n",
    "df['date'] = pd.to_datetime(df['date'], format='%d/%b/%Y:%H:%M:%S', errors='coerce')\n",
    "\n",
    "# Preview the updated 'date' column with both date and time\n",
    "print(df['date'].head())\n"
   ]
  },
  {
   "cell_type": "code",
   "execution_count": 95,
   "id": "498e0fa6",
   "metadata": {},
   "outputs": [],
   "source": [
    "# Fill missing values in the DataFrame columns\n",
    "default_values = {\n",
    "    'remotehost': 'unknown',\n",
    "    'rfc931': 'unknown',\n",
    "    'authuser': 'unknown',\n",
    "    'date':'unknown',\n",
    "    'request': 'unknown',\n",
    "    'status': 0,\n",
    "    'bytes': 0\n",
    "}\n",
    "df.fillna(value=default_values, inplace=True)\n"
   ]
  },
  {
   "cell_type": "code",
   "execution_count": 63,
   "id": "f06986c8",
   "metadata": {},
   "outputs": [
    {
     "name": "stdout",
     "output_type": "stream",
     "text": [
      "<class 'pandas.core.frame.DataFrame'>\n",
      "RangeIndex: 726369 entries, 0 to 726368\n",
      "Data columns (total 7 columns):\n",
      " #   Column      Non-Null Count   Dtype \n",
      "---  ------      --------------   ----- \n",
      " 0   remotehost  726369 non-null  object\n",
      " 1   rfc931      726369 non-null  object\n",
      " 2   authuser    726369 non-null  object\n",
      " 3   date        726369 non-null  object\n",
      " 4   request     726369 non-null  object\n",
      " 5   status      726369 non-null  object\n",
      " 6   bytes       726369 non-null  object\n",
      "dtypes: object(7)\n",
      "memory usage: 38.8+ MB\n"
     ]
    }
   ],
   "source": [
    "df.info()"
   ]
  },
  {
   "cell_type": "code",
   "execution_count": 96,
   "id": "b31ec267",
   "metadata": {},
   "outputs": [
    {
     "data": {
      "text/plain": [
       "0        1994-10-24 13:41:41\n",
       "1        1994-10-24 13:41:41\n",
       "2        1994-10-24 13:43:13\n",
       "3        1994-10-24 13:43:14\n",
       "4        1994-10-24 13:43:15\n",
       "                 ...        \n",
       "726364   1995-10-11 14:11:39\n",
       "726365   1995-10-11 14:11:40\n",
       "726366   1995-10-11 14:11:45\n",
       "726367   1995-10-11 14:11:58\n",
       "726368   1995-10-11 14:14:17\n",
       "Name: date, Length: 726369, dtype: datetime64[ns]"
      ]
     },
     "execution_count": 96,
     "metadata": {},
     "output_type": "execute_result"
    }
   ],
   "source": [
    "df.date"
   ]
  },
  {
   "cell_type": "code",
   "execution_count": 76,
   "id": "fdda0ec8",
   "metadata": {},
   "outputs": [
    {
     "name": "stdout",
     "output_type": "stream",
     "text": [
      "<class 'pandas.core.frame.DataFrame'>\n",
      "RangeIndex: 726369 entries, 0 to 726368\n",
      "Data columns (total 7 columns):\n",
      " #   Column      Non-Null Count   Dtype \n",
      "---  ------      --------------   ----- \n",
      " 0   remotehost  726369 non-null  object\n",
      " 1   rfc931      726369 non-null  object\n",
      " 2   authuser    726369 non-null  object\n",
      " 3   date        726369 non-null  object\n",
      " 4   request     726369 non-null  object\n",
      " 5   status      726369 non-null  object\n",
      " 6   bytes       726369 non-null  object\n",
      "dtypes: object(7)\n",
      "memory usage: 38.8+ MB\n"
     ]
    }
   ],
   "source": [
    "df.info()"
   ]
  },
  {
   "cell_type": "code",
   "execution_count": 96,
   "id": "593bdabb",
   "metadata": {},
   "outputs": [],
   "source": [
    "# Convert data types\n",
    "# Ensure 'status' and 'bytes' are numeric, and 'date' is properly parsed\n",
    "df['status'] = pd.to_numeric(df['status'], errors='coerce')\n",
    "df['bytes'] = pd.to_numeric(df['bytes'], errors='coerce')\n",
    "df['date'] = pd.to_datetime(df['date'], format='%d/%b/%Y:%H:%M:%S', errors='coerce')"
   ]
  },
  {
   "cell_type": "code",
   "execution_count": null,
   "id": "05db2cbd",
   "metadata": {},
   "outputs": [],
   "source": []
  },
  {
   "cell_type": "markdown",
   "id": "8e491a4e",
   "metadata": {},
   "source": [
    "## ⚠️ IMPORTANT: Template Questions Section\n",
    "**DO NOT MODIFY THE TEMPLATE BELOW THIS POINT**\n",
    "\n",
    "The following section contains the assessment questions. You may add cells above this section for data loading, cleaning, and exploration, but do not modify the function signatures or structure of the questions below."
   ]
  },
  {
   "cell_type": "markdown",
   "id": "80da5c6e",
   "metadata": {},
   "source": [
    "## Part 2: Analysis Questions"
   ]
  },
  {
   "cell_type": "markdown",
   "id": "38f1ce65",
   "metadata": {},
   "source": [
    "### Instructions\n",
    "\n",
    "* Implement each function according to its docstring specifications\n",
    "* Use the cleaned data you prepared in Part 1\n",
    "* Ensure your functions return the exact data types specified\n",
    "* Test your functions to verify they work correctly\n",
    "* You may add helper functions, but keep the main function signatures unchanged"
   ]
  },
  {
   "cell_type": "markdown",
   "id": "afff13fe",
   "metadata": {
    "vscode": {
     "languageId": "plaintext"
    }
   },
   "source": [
    "### Q1: Count of total log records"
   ]
  },
  {
   "cell_type": "code",
   "execution_count": 78,
   "id": "f6264dd7",
   "metadata": {},
   "outputs": [
    {
     "name": "stdout",
     "output_type": "stream",
     "text": [
      "Answer 1:\n",
      "726369\n"
     ]
    }
   ],
   "source": [
    "def total_log_records(df) -> int:\n",
    "    \"\"\"\n",
    "    Q1: Count of total log records.\n",
    "\n",
    "    Objective:\n",
    "        Determine the total number of HTTP log entries in the dataset.\n",
    "        Each line in the log file represents one HTTP request.\n",
    "\n",
    "    Returns:\n",
    "        int: Total number of log entries.\n",
    "    \"\"\"\n",
    "\n",
    "    return df.shape[0]\n",
    "\n",
    "\n",
    "answer1 = total_log_records(df)\n",
    "print(\"Answer 1:\")\n",
    "print(answer1)"
   ]
  },
  {
   "cell_type": "markdown",
   "id": "78c5141e",
   "metadata": {
    "vscode": {
     "languageId": "plaintext"
    }
   },
   "source": [
    "### Q2: Count of unique hosts"
   ]
  },
  {
   "cell_type": "code",
   "execution_count": 48,
   "id": "fcbccae5",
   "metadata": {},
   "outputs": [
    {
     "name": "stdout",
     "output_type": "stream",
     "text": [
      "Answer 2:\n",
      "2\n"
     ]
    }
   ],
   "source": [
    "def unique_host_count(df) -> int:\n",
    "    \"\"\"\n",
    "    Q2: Count of unique hosts.\n",
    "\n",
    "    Objective:\n",
    "        Determine how many distinct hosts accessed the server.\n",
    "\n",
    "    Returns:\n",
    "        int: Number of unique hosts.\n",
    "    \"\"\"\n",
    "\n",
    "    return len(df.remotehost.unique())\n",
    "\n",
    "\n",
    "\n",
    "answer2 = unique_host_count(df)\n",
    "print(\"Answer 2:\")\n",
    "print(answer2)"
   ]
  },
  {
   "cell_type": "markdown",
   "id": "f2c224d5",
   "metadata": {
    "vscode": {
     "languageId": "plaintext"
    }
   },
   "source": [
    "### Q3: Date-wise unique filename counts"
   ]
  },
  {
   "cell_type": "code",
   "execution_count": null,
   "id": "6e1533ac",
   "metadata": {},
   "outputs": [
    {
     "data": {
      "text/plain": [
       "dtype('<M8[ns]')"
      ]
     },
     "execution_count": 218,
     "metadata": {},
     "output_type": "execute_result"
    }
   ],
   "source": []
  },
  {
   "cell_type": "code",
   "execution_count": 79,
   "id": "6fb2b511",
   "metadata": {},
   "outputs": [
    {
     "data": {
      "text/plain": [
       "<DatetimeArray>\n",
       "['1994-10-24 13:41:41', '1994-10-24 13:43:13', '1994-10-24 13:43:14',\n",
       " '1994-10-24 13:43:15', '1994-10-24 13:43:17', '1994-10-24 13:46:45',\n",
       " '1994-10-24 13:46:47', '1994-10-24 13:46:50', '1994-10-24 13:47:19',\n",
       " '1994-10-24 13:47:41',\n",
       " ...\n",
       " '1995-10-11 14:09:41', '1995-10-11 14:10:57', '1995-10-11 14:10:58',\n",
       " '1995-10-11 14:10:59', '1995-10-11 14:11:38', '1995-10-11 14:11:39',\n",
       " '1995-10-11 14:11:40', '1995-10-11 14:11:45', '1995-10-11 14:11:58',\n",
       " '1995-10-11 14:14:17']\n",
       "Length: 603572, dtype: datetime64[ns]"
      ]
     },
     "execution_count": 79,
     "metadata": {},
     "output_type": "execute_result"
    }
   ],
   "source": [
    "df.date.unique()"
   ]
  },
  {
   "cell_type": "code",
   "execution_count": 80,
   "id": "8be69b05",
   "metadata": {},
   "outputs": [
    {
     "name": "stdout",
     "output_type": "stream",
     "text": [
      "Answer 3:\n",
      "{'21-Mar-1995': 6614, '29-Mar-1995': 6353, '21-Sep-1995': 5471, '28-Mar-1995': 5376, '07-Feb-1995': 5216, '09-Feb-1995': 5025, '26-Sep-1995': 4894, '23-Mar-1995': 4885, '20-Mar-1995': 4783, '13-Sep-1995': 4746, '30-Mar-1995': 4627, '02-Oct-1995': 4592, '20-Sep-1995': 4524, '27-Mar-1995': 4519, '14-Mar-1995': 4472, '08-Feb-1995': 4409, '25-Sep-1995': 4358, '15-Mar-1995': 4293, '22-Mar-1995': 4166, '27-Sep-1995': 4151, '19-Sep-1995': 4079, '07-Apr-1995': 4016, '28-Sep-1995': 4004, '04-Oct-1995': 3967, '13-Mar-1995': 3962, '14-Sep-1995': 3959, '12-Apr-1995': 3867, '06-Oct-1995': 3853, '29-Sep-1995': 3818, '03-Oct-1995': 3818, '15-Sep-1995': 3764, '05-Oct-1995': 3718, '10-Oct-1995': 3706, '16-Mar-1995': 3686, '06-Feb-1995': 3587, '11-Sep-1995': 3543, '15-Feb-1995': 3527, '06-Apr-1995': 3523, '18-Sep-1995': 3492, '05-Apr-1995': 3486, '11-Apr-1995': 3481, '31-Mar-1995': 3455, '14-Feb-1995': 3391, '10-Apr-1995': 3390, '22-Sep-1995': 3381, '10-Mar-1995': 3368, '25-May-1995': 3330, '09-May-1995': 3316, '06-May-1995': 3307, '12-Sep-1995': 3287, '31-Jan-1995': 3240, '13-Feb-1995': 3212, '08-Sep-1995': 3208, '02-Aug-1995': 3138, '07-Mar-1995': 3134, '04-Apr-1995': 3131, '10-Feb-1995': 2970, '09-Mar-1995': 2968, '22-May-1995': 2923, '03-Apr-1995': 2915, '25-Jul-1995': 2914, '23-Sep-1995': 2897, '06-Mar-1995': 2890, '24-Sep-1995': 2853, '02-Feb-1995': 2845, '10-May-1995': 2834, '04-Aug-1995': 2828, '30-Jan-1995': 2825, '09-Oct-1995': 2814, '19-Jun-1995': 2813, '14-Aug-1995': 2800, '08-Aug-1995': 2796, '09-Aug-1995': 2792, '22-Feb-1995': 2786, '23-Aug-1995': 2774, '01-Feb-1995': 2712, '04-Feb-1995': 2707, '08-Mar-1995': 2679, '23-May-1995': 2669, '03-Aug-1995': 2664, '10-Aug-1995': 2657, '28-Jul-1995': 2657, '16-Feb-1995': 2596, '04-Jul-1995': 2580, '21-Jun-1995': 2555, '03-Feb-1995': 2531, '11-Oct-1995': 2522, '21-May-1995': 2505, '09-Apr-1995': 2499, '01-Aug-1995': 2471, '27-Jul-1995': 2468, '14-Jun-1995': 2463, '23-Feb-1995': 2443, '26-Jul-1995': 2440, '25-Mar-1995': 2433, '03-May-1995': 2416, '05-May-1995': 2401, '11-May-1995': 2400, '07-Sep-1995': 2382, '31-Jul-1995': 2378, '22-Aug-1995': 2374, '06-Jun-1995': 2370, '22-Jun-1995': 2369, '13-Apr-1995': 2338, '26-Apr-1995': 2337, '04-May-1995': 2322, '24-Aug-1995': 2318, '30-Sep-1995': 2304, '19-Jan-1995': 2304, '07-May-1995': 2298, '30-Aug-1995': 2297, '19-Apr-1995': 2294, '08-Apr-1995': 2286, '19-May-1995': 2270, '18-May-1995': 2270, '16-Aug-1995': 2267, '17-Nov-1994': 2264, '08-May-1995': 2262, '25-Aug-1995': 2260, '26-Jun-1995': 2245, '29-Nov-1994': 2237, '24-Jan-1995': 2233, '26-Jan-1995': 2230, '21-Apr-1995': 2229, '21-Aug-1995': 2217, '11-Jul-1995': 2215, '28-Aug-1995': 2207, '27-Jun-1995': 2197, '28-Feb-1995': 2193, '24-Jul-1995': 2185, '17-Jul-1995': 2177, '17-Aug-1995': 2175, '01-Oct-1995': 2174, '28-Jun-1995': 2167, '26-May-1995': 2159, '24-May-1995': 2159, '26-Mar-1995': 2154, '01-Mar-1995': 2153, '16-Nov-1994': 2142, '17-Feb-1995': 2132, '30-Nov-1994': 2113, '15-Aug-1995': 2113, '03-Nov-1994': 2112, '02-Nov-1994': 2106, '02-Mar-1995': 2093, '31-Oct-1994': 2080, '02-May-1995': 2078, '08-Jun-1995': 2059, '20-Apr-1995': 2057, '27-Feb-1995': 2057, '21-Jul-1995': 2054, '18-Aug-1995': 2049, '24-Mar-1995': 2046, '20-Jun-1995': 2022, '17-Sep-1995': 2021, '08-Oct-1995': 2018, '31-Aug-1995': 2018, '28-Apr-1995': 2006, '27-Jan-1995': 2005, '11-Aug-1995': 1995, '23-Jun-1995': 1988, '17-Mar-1995': 1968, '16-Jan-1995': 1958, '20-Jan-1995': 1958, '05-Jul-1995': 1955, '17-May-1995': 1950, '01-Jun-1995': 1942, '27-Apr-1995': 1941, '12-Feb-1995': 1938, '29-Aug-1995': 1934, '05-Feb-1995': 1930, '25-Jan-1995': 1923, '19-Jul-1995': 1906, '27-Oct-1994': 1885, '16-Sep-1995': 1883, '01-Nov-1994': 1882, '13-Jul-1995': 1877, '21-Feb-1995': 1870, '20-Jul-1995': 1853, '07-Aug-1995': 1851, '15-Jun-1995': 1841, '19-Dec-1994': 1840, '12-Jan-1995': 1830, '12-Jul-1995': 1830, '13-Jun-1995': 1828, '24-Feb-1995': 1822, '29-Jun-1995': 1817, '14-Jul-1995': 1816, '28-Oct-1994': 1813, '13-Dec-1994': 1800, '12-Jun-1995': 1799, '16-Jun-1995': 1797, '31-May-1995': 1793, '05-Dec-1994': 1790, '15-May-1995': 1787, '21-Nov-1994': 1777, '04-Nov-1994': 1775, '13-Aug-1995': 1758, '22-Nov-1994': 1753, '06-Sep-1995': 1747, '06-Jul-1995': 1745, '10-Jul-1995': 1743, '18-Jul-1995': 1740, '03-Jul-1995': 1740, '05-Jun-1995': 1734, '02-Jun-1995': 1734, '16-May-1995': 1727, '05-Aug-1995': 1714, '07-Jun-1995': 1713, '12-Dec-1994': 1708, '18-Apr-1995': 1703, '13-Jan-1995': 1680, '26-Oct-1994': 1680, '24-Nov-1994': 1675, '18-Feb-1995': 1670, '09-Jun-1995': 1670, '18-Jan-1995': 1670, '10-Jan-1995': 1665, '22-Apr-1995': 1665, '28-Nov-1994': 1660, '01-Apr-1995': 1652, '12-May-1995': 1652, '03-Mar-1995': 1647, '30-May-1995': 1638, '23-Jul-1995': 1636, '25-Jun-1995': 1625, '05-Mar-1995': 1623, '12-Mar-1995': 1616, '10-Sep-1995': 1613, '09-Sep-1995': 1602, '30-Jun-1995': 1602, '23-Jan-1995': 1566, '30-Jul-1995': 1559, '20-Feb-1995': 1555, '07-Nov-1994': 1554, '07-Oct-1995': 1548, '25-Apr-1995': 1545, '06-Aug-1995': 1539, '25-Feb-1995': 1525, '07-Dec-1994': 1524, '23-Nov-1994': 1520, '01-May-1995': 1511, '17-Apr-1995': 1507, '11-Mar-1995': 1505, '17-Jan-1995': 1488, '18-Mar-1995': 1485, '08-Dec-1994': 1467, '02-Apr-1995': 1446, '24-Apr-1995': 1433, '09-Dec-1994': 1413, '04-Mar-1995': 1412, '09-Nov-1994': 1376, '20-Aug-1995': 1374, '06-Dec-1994': 1372, '25-Nov-1994': 1349, '11-Jan-1995': 1346, '19-Mar-1995': 1345, '09-Jan-1995': 1341, '28-Jan-1995': 1339, '17-Jun-1995': 1339, '14-Nov-1994': 1330, '02-Dec-1994': 1324, '29-Jul-1995': 1289, '22-Jul-1995': 1286, '07-Jul-1995': 1285, '29-May-1995': 1271, '29-Jan-1995': 1268, '26-Feb-1995': 1267, '14-Dec-1994': 1265, '18-Nov-1994': 1262, '08-Nov-1994': 1260, '26-Aug-1995': 1256, '20-Dec-1994': 1249, '27-Aug-1995': 1242, '02-Jul-1995': 1221, '10-Nov-1994': 1216, '15-Nov-1994': 1205, '25-Oct-1994': 1194, '01-Sep-1995': 1191, '14-Apr-1995': 1188, '16-Apr-1995': 1178, '12-Aug-1995': 1176, '05-Sep-1995': 1171, '19-Feb-1995': 1158, '15-Dec-1994': 1149, '17-Dec-1994': 1143, '21-Dec-1994': 1118, '04-Jun-1995': 1117, '20-May-1995': 1112, '18-Dec-1994': 1102, '05-Jan-1995': 1100, '14-May-1995': 1092, '04-Sep-1995': 1065, '16-Dec-1994': 1064, '29-Apr-1995': 1055, '10-Jun-1995': 1028, '15-Jul-1995': 1028, '15-Apr-1995': 1027, '02-Sep-1995': 1018, '03-Jan-1995': 1016, '11-Feb-1995': 1003, '03-Jun-1995': 995, '01-Dec-1994': 992, '18-Jun-1995': 991, '19-Aug-1995': 991, '24-Jun-1995': 982, '23-Apr-1995': 966, '16-Jul-1995': 935, '22-Dec-1994': 908, '30-Oct-1994': 902, '13-May-1995': 900, '29-Oct-1994': 898, '04-Jan-1995': 871, '11-Jun-1995': 866, '08-Jul-1995': 829, '30-Apr-1995': 822, '01-Jul-1995': 806, '27-May-1995': 805, '22-Jan-1995': 787, '20-Nov-1994': 784, '15-Jan-1995': 760, '09-Jul-1995': 758, '03-Dec-1994': 712, '11-Nov-1994': 710, '24-Oct-1994': 705, '26-Nov-1994': 681, '03-Sep-1995': 654, '19-Nov-1994': 648, '21-Jan-1995': 624, '13-Nov-1994': 613, '11-Dec-1994': 603, '04-Dec-1994': 591, '27-Nov-1994': 588, '06-Jan-1995': 587, '28-May-1995': 582, '06-Nov-1994': 582, '05-Nov-1994': 564, '27-Dec-1994': 511, '10-Dec-1994': 489, '02-Jan-1995': 489, '12-Nov-1994': 487, '14-Jan-1995': 481, '28-Dec-1994': 465, '23-Dec-1994': 455, '08-Jan-1995': 450, '25-Dec-1994': 387, '07-Jan-1995': 342, '30-Dec-1994': 336, '31-Dec-1994': 301, '29-Dec-1994': 301, '26-Dec-1994': 280, '01-Jan-1995': 251, '24-Dec-1994': 123}\n"
     ]
    }
   ],
   "source": [
    "def datewise_unique_filename_counts(df) -> dict[str, int]:\n",
    "    \"\"\"\n",
    "    Q3: Date-wise unique filename counts.\n",
    "\n",
    "    Objective:\n",
    "        For each date, count the number of unique filenames that accessed the server.\n",
    "        The date should be in 'dd-MMM-yyyy' format (e.g., '01-Jul-1995').\n",
    "\n",
    "    Returns:\n",
    "            dict: A dictionary mapping each date to its count of unique filenames.\n",
    "              Example: {'01-Jul-1995': 123, '02-Jul-1995': 150}\n",
    "    \"\"\"\n",
    "    # Count occurrences of each date\n",
    "    df['date']  = pd.to_datetime(df['date'], errors='coerce').dt.strftime('%d-%b-%Y')\n",
    "    return df['date'].value_counts().to_dict()\n",
    "\n",
    "answer3 = datewise_unique_filename_counts(df)\n",
    "print(\"Answer 3:\")\n",
    "print(answer3)"
   ]
  },
  {
   "cell_type": "markdown",
   "id": "4d2da36a",
   "metadata": {},
   "source": [
    "### Q4: Number of 404 response codes"
   ]
  },
  {
   "cell_type": "code",
   "execution_count": 81,
   "id": "d0671865",
   "metadata": {},
   "outputs": [
    {
     "name": "stdout",
     "output_type": "stream",
     "text": [
      "Answer 4:\n",
      "23511\n"
     ]
    }
   ],
   "source": [
    "def count_404_errors(df) -> int:\n",
    "    \"\"\"\n",
    "    Q4: Number of 404 response codes.\n",
    "\n",
    "    Objective:\n",
    "        Count how many times the HTTP 404 Not Found status appears in the logs.\n",
    "\n",
    "    Returns:\n",
    "        int: Number of 404 errors.\n",
    "    \"\"\"\n",
    "\n",
    "    c = 0\n",
    "    for i in df['status']:\n",
    "        if i==404:\n",
    "            c +=1\n",
    "    return c  # Placeholder return\n",
    "\n",
    "\n",
    "answer4 = count_404_errors(df)\n",
    "print(\"Answer 4:\")\n",
    "print(answer4)"
   ]
  },
  {
   "cell_type": "markdown",
   "id": "c73928d2",
   "metadata": {},
   "source": [
    "### Q5: Top 15 filenames with 404 responses"
   ]
  },
  {
   "cell_type": "code",
   "execution_count": 82,
   "id": "358f0523",
   "metadata": {},
   "outputs": [
    {
     "name": "stdout",
     "output_type": "stream",
     "text": [
      "Answer 5:\n",
      "[('index.html', 4735), ('4115.html', 902), ('1611.html', 647), ('5698.xbm', 585), ('710.txt', 408), ('2002.html', 259), ('2177.gif', 193), ('10695.ps', 161), ('6555.html', 153), ('487.gif', 152), ('151.html', 149), ('3414.gif', 148), ('488.gif', 148), ('40.html', 148), ('9678.gif', 142)]\n"
     ]
    }
   ],
   "source": [
    "def top_15_filenames_with_404(df) -> list[tuple[str, int]]:\n",
    "    \"\"\"\n",
    "    Q5: Top 15 filenames with 404 responses.\n",
    "\n",
    "    Objective:\n",
    "        Identify which requested URLs most frequently resulted in a 404 error.\n",
    "        Return the top 15 filenames sorted by frequency.\n",
    "\n",
    "    Returns:\n",
    "        list: A list of tuples (filename, count), sorted by count in descending order.\n",
    "              Example: [('index.html', 200), ('about.html', 150), ...]\n",
    "    \"\"\"\n",
    "    # Filter rows with 404 status code\n",
    "    df_404 = df[df['status'] == 404]\n",
    "\n",
    "    # Extract filenames from the 'request' column\n",
    "    filenames = df_404['request'].str.split().str[1].dropna()\n",
    "\n",
    "    # Count occurrences of filenames\n",
    "    filename_counts = filenames.value_counts()\n",
    "\n",
    "    # Convert to list of tuples\n",
    "    top_15_404 = filename_counts.head(15).items()\n",
    "\n",
    "    return list(top_15_404)\n",
    "\n",
    "answer5 = top_15_filenames_with_404(df)\n",
    "print(\"Answer 5:\")\n",
    "print(answer5)"
   ]
  },
  {
   "cell_type": "markdown",
   "id": "6328c88a",
   "metadata": {},
   "source": [
    "### Q6: Top 15 file extension with 404 responses"
   ]
  },
  {
   "cell_type": "code",
   "execution_count": 83,
   "id": "d0aca8cc",
   "metadata": {},
   "outputs": [
    {
     "name": "stdout",
     "output_type": "stream",
     "text": [
      "Answer 6:\n",
      "[('0', 23408), ('html', 25), ('gif', 8), ('room', 3), ('xbm', 2), ('txt', 1), ('htm', 1), ('com', 1)]\n"
     ]
    }
   ],
   "source": [
    "def top_15_ext_with_404(df) -> list[tuple[str, int]]:\n",
    "    \"\"\"\n",
    "    Q6: Top 15 file extensions with 404 responses.\n",
    "\n",
    "    Objective:\n",
    "        Find which file extensions generated the most 404 errors.\n",
    "        Return the top 15 sorted by number of 404s.\n",
    "\n",
    "    Returns:\n",
    "        list: A list of tuples (extension, count), sorted by count in descending order.\n",
    "              Example: [('html', 45), ...]\n",
    "    \"\"\"\n",
    "\n",
    "    # Filter rows with 404 status code\n",
    "    df_404 = df[df['status'] == 404]\n",
    "\n",
    "    # Extract file extensions from the 'request' column\n",
    "    extensions = df_404['request'].str.extract(r'\\.([a-zA-Z0-9]+)$', expand=False).dropna()\n",
    "\n",
    "    # Count occurrences of extensions\n",
    "    extension_counts = extensions.value_counts()\n",
    "\n",
    "    # Convert to list of tuples\n",
    "    top_15_404 = extension_counts.head(15).items()\n",
    "\n",
    "    return list(top_15_404)\n",
    "\n",
    "answer6 = top_15_ext_with_404(df)\n",
    "print(\"Answer 6:\")\n",
    "print(answer6)"
   ]
  },
  {
   "cell_type": "markdown",
   "id": "ff52c8ba",
   "metadata": {},
   "source": [
    "### Q7: Total bandwidth transferred per day for the month of July 1995"
   ]
  },
  {
   "cell_type": "code",
   "execution_count": 28,
   "id": "40e5f4de",
   "metadata": {},
   "outputs": [
    {
     "data": {
      "text/plain": [
       "date\n",
       "21/03/95    6614\n",
       "29/03/95    6353\n",
       "21/09/95    5471\n",
       "28/03/95    5376\n",
       "07/02/95    5216\n",
       "            ... \n",
       "31/12/94     301\n",
       "29/12/94     301\n",
       "26/12/94     280\n",
       "01/01/95     251\n",
       "24/12/94     123\n",
       "Name: count, Length: 354, dtype: int64"
      ]
     },
     "execution_count": 28,
     "metadata": {},
     "output_type": "execute_result"
    }
   ],
   "source": [
    "df['date'].value_counts()"
   ]
  },
  {
   "cell_type": "code",
   "execution_count": 83,
   "id": "eb9c5cb2",
   "metadata": {},
   "outputs": [],
   "source": [
    "df['date'] = pd.to_datetime(df['date'], errors='coerce')\n",
    "july_1995 = df[(df['date'].dt.month == 7) & (df['date'].dt.year == 1995)]\n",
    "g = july_1995.groupby('date')['bytes'].sum()\n",
    "\n"
   ]
  },
  {
   "cell_type": "code",
   "execution_count": 89,
   "id": "45f52d9b",
   "metadata": {},
   "outputs": [
    {
     "name": "stdout",
     "output_type": "stream",
     "text": [
      "Answer 7:\n",
      "{'01-Jul-1995': 11333976.0, '02-Jul-1995': 8656918.0, '03-Jul-1995': 13596612.0, '04-Jul-1995': 26573988.0, '05-Jul-1995': 19541225.0, '06-Jul-1995': 19754176.0, '07-Jul-1995': 9427822.0, '08-Jul-1995': 5403491.0, '09-Jul-1995': 4660556.0, '10-Jul-1995': 14917754.0, '11-Jul-1995': 22507207.0, '12-Jul-1995': 17367065.0, '13-Jul-1995': 15989234.0, '14-Jul-1995': 19184957.0, '15-Jul-1995': 15773233.0, '16-Jul-1995': 9016378.0, '17-Jul-1995': 19601338.0, '18-Jul-1995': 17099761.0, '19-Jul-1995': 17851725.0, '20-Jul-1995': 20752623.0, '21-Jul-1995': 24751044.0, '22-Jul-1995': 8128285.0, '23-Jul-1995': 9593870.0, '24-Jul-1995': 22308265.0, '25-Jul-1995': 24553589.0, '26-Jul-1995': 24995540.0, '27-Jul-1995': 25969995.0, '28-Jul-1995': 36460693.0, '29-Jul-1995': 11695395.0, '30-Jul-1995': 23189598.0, '31-Jul-1995': 30730715.0}\n"
     ]
    }
   ],
   "source": [
    "import pandas as pd\n",
    "\n",
    "def total_bandwidth_per_day(df) -> dict[str, int]:\n",
    "    \"\"\"\n",
    "    Q7: Total bandwidth transferred per day for the month of July 1995.\n",
    "\n",
    "    Objective:\n",
    "        Sum the number of bytes transferred per day.\n",
    "        Skip entries where the byte field is missing or invalid.\n",
    "\n",
    "    Returns:\n",
    "        dict: A dictionary mapping each date to total bytes transferred.\n",
    "              Example: {'01-Jul-1995': 123456789, ...}\n",
    "    \"\"\"\n",
    "\n",
    "    # Ensure 'date' column is datetime\n",
    "    df['date'] = pd.to_datetime(df['date'], errors='coerce')\n",
    "\n",
    "    # Filter rows for July 1995\n",
    "    july_1995 = df[(df['date'].dt.month == 7) & (df['date'].dt.year == 1995)]\n",
    "\n",
    "    # Ensure 'bytes' column is numeric and skip invalid entries\n",
    "    july_1995.loc[:, 'bytes'] = pd.to_numeric(july_1995['bytes'], errors='coerce')\n",
    "    july_1995 = july_1995.dropna(subset=['bytes'])\n",
    "\n",
    "    # Group by date and sum bytes\n",
    "    bandwidth_per_day = july_1995.groupby(july_1995['date'].dt.strftime('%d-%b-%Y'))['bytes'].sum()\n",
    "\n",
    "    return bandwidth_per_day.to_dict()\n",
    "\n",
    "\n",
    "# Assuming 'df' is your DataFrame containing the data\n",
    "answer7 = total_bandwidth_per_day(df)\n",
    "print(\"Answer 7:\")\n",
    "print(answer7)"
   ]
  },
  {
   "cell_type": "markdown",
   "id": "7dc00908",
   "metadata": {},
   "source": [
    "### Q8: Hourly request distribution"
   ]
  },
  {
   "cell_type": "code",
   "execution_count": 97,
   "id": "bbf2f323",
   "metadata": {},
   "outputs": [
    {
     "data": {
      "text/plain": [
       "0        1994-10-24 13:41:41\n",
       "1        1994-10-24 13:41:41\n",
       "2        1994-10-24 13:43:13\n",
       "3        1994-10-24 13:43:14\n",
       "4        1994-10-24 13:43:15\n",
       "                 ...        \n",
       "726364   1995-10-11 14:11:39\n",
       "726365   1995-10-11 14:11:40\n",
       "726366   1995-10-11 14:11:45\n",
       "726367   1995-10-11 14:11:58\n",
       "726368   1995-10-11 14:14:17\n",
       "Name: date, Length: 726369, dtype: datetime64[ns]"
      ]
     },
     "execution_count": 97,
     "metadata": {},
     "output_type": "execute_result"
    }
   ],
   "source": [
    "df['date']\n"
   ]
  },
  {
   "cell_type": "code",
   "execution_count": 51,
   "id": "f081a192",
   "metadata": {},
   "outputs": [
    {
     "data": {
      "text/plain": [
       "dtype('O')"
      ]
     },
     "execution_count": 51,
     "metadata": {},
     "output_type": "execute_result"
    }
   ],
   "source": [
    "df.date.dtype"
   ]
  },
  {
   "cell_type": "code",
   "execution_count": 89,
   "id": "9b6f6d49",
   "metadata": {},
   "outputs": [
    {
     "data": {
      "text/plain": [
       "0        1994-10-24\n",
       "1        1994-10-24\n",
       "2        1994-10-24\n",
       "3        1994-10-24\n",
       "4        1994-10-24\n",
       "            ...    \n",
       "726364   1995-10-11\n",
       "726365   1995-10-11\n",
       "726366   1995-10-11\n",
       "726367   1995-10-11\n",
       "726368   1995-10-11\n",
       "Name: date, Length: 726369, dtype: datetime64[ns]"
      ]
     },
     "execution_count": 89,
     "metadata": {},
     "output_type": "execute_result"
    }
   ],
   "source": [
    "df['date']"
   ]
  },
  {
   "cell_type": "code",
   "execution_count": 87,
   "id": "8a2c14d5",
   "metadata": {},
   "outputs": [
    {
     "name": "stdout",
     "output_type": "stream",
     "text": [
      "0   1994-10-24\n",
      "1   1994-10-24\n",
      "2   1994-10-24\n",
      "3   1994-10-24\n",
      "4   1994-10-24\n",
      "Name: date, dtype: datetime64[ns]\n"
     ]
    }
   ],
   "source": [
    "# Ensure 'date' column is properly converted to datetime\n",
    "df['date'] = pd.to_datetime(df['date'], format='%d/%b/%Y:%H:%M:%S', errors='coerce')\n",
    "\n",
    "# Preview the 'date' column to confirm it includes both date and time\n",
    "print(df['date'].head())"
   ]
  },
  {
   "cell_type": "code",
   "execution_count": 97,
   "id": "a77f3e12",
   "metadata": {},
   "outputs": [
    {
     "name": "stdout",
     "output_type": "stream",
     "text": [
      "{0: 18761, 1: 14385, 2: 12688, 3: 10899, 4: 9966, 5: 10801, 6: 13059, 7: 16664, 8: 26589, 9: 33984, 10: 43373, 11: 47584, 12: 46812, 13: 51450, 14: 54554, 15: 50369, 16: 51172, 17: 45053, 18: 33211, 19: 30565, 20: 29684, 21: 27403, 22: 23825, 23: 21877}\n"
     ]
    }
   ],
   "source": [
    "import pandas as pd\n",
    "\n",
    "def hourly_request_distribution(df) -> dict[int, int]:\n",
    "    \"\"\"\n",
    "    Q8: Hourly request distribution.\n",
    "\n",
    "    Objective:\n",
    "        Count the number of requests made during each hour (00 to 23).\n",
    "        Useful for understanding traffic peaks.\n",
    "\n",
    "    Returns:\n",
    "        dict: A dictionary mapping hour (int) to request count.\n",
    "              Example: {0: 120, 1: 90, ..., 23: 80}\n",
    "    \"\"\"\n",
    "    # Ensure 'date' column is datetime and drop rows with null dates\n",
    "    df['date'] = pd.to_datetime(df['date'], errors='coerce')\n",
    "    df = df.dropna(subset=['date'])\n",
    "\n",
    "    # Extract hour from the timestamp using .loc\n",
    "    df = df.copy()  # Create a copy to avoid SettingWithCopyWarning\n",
    "    df.loc[:, 'hour'] = df['date'].dt.hour\n",
    "\n",
    "    # Count how many times each hour appears\n",
    "    hour_counts = df['hour'].value_counts().sort_index()\n",
    "\n",
    "    # Return as dictionary\n",
    "    return hour_counts.to_dict()\n",
    "\n",
    "# Assuming 'df' is your DataFrame containing the request data\n",
    "# Call and print the result\n",
    "answer8 = hourly_request_distribution(df)\n",
    "print(answer8)\n"
   ]
  },
  {
   "cell_type": "markdown",
   "id": "363b7083",
   "metadata": {},
   "source": [
    "### Q9: Top 10 most requested filenames"
   ]
  },
  {
   "cell_type": "code",
   "execution_count": 98,
   "id": "91168ad7",
   "metadata": {},
   "outputs": [
    {
     "name": "stdout",
     "output_type": "stream",
     "text": [
      "Answer 9:\n",
      "[('index.html', 140042), ('3.gif', 24006), ('2.gif', 23604), ('4.gif', 8018), ('244.gif', 5149), ('5.html', 5010), ('4097.gif', 4874), ('8870.jpg', 4492), ('6733.gif', 4277), ('8472.gif', 3843)]\n"
     ]
    }
   ],
   "source": [
    "def top_10_most_requested_filenames(df) -> list[tuple[str, int]]:\n",
    "    \"\"\"\n",
    "    Q9: Top 10 most requested filenames.\n",
    "\n",
    "    Objective:\n",
    "        Identify the most commonly requested URLs (irrespective of status code).\n",
    "\n",
    "    Returns:\n",
    "        list: A list of tuples (filename, count), sorted by count in descending order.\n",
    "                Example: [('index.html', 500), ...]\n",
    "    \"\"\"\n",
    "    # Extract filenames from the 'request' column\n",
    "    filenames = df['request'].str.split().str[1].dropna()\n",
    "\n",
    "    # Count occurrences of filenames\n",
    "    filename_counts = filenames.value_counts()\n",
    "\n",
    "    # Get the top 10 filenames\n",
    "    top_10_filenames = filename_counts.head(10).items()\n",
    "\n",
    "    return list(top_10_filenames)\n",
    "\n",
    "\n",
    "answer9 = top_10_most_requested_filenames(df)\n",
    "print(\"Answer 9:\")\n",
    "print(answer9)"
   ]
  },
  {
   "cell_type": "markdown",
   "id": "eedb4778",
   "metadata": {},
   "source": [
    "### Q10: HTTP response code distribution"
   ]
  },
  {
   "cell_type": "code",
   "execution_count": 99,
   "id": "bd4453ed",
   "metadata": {},
   "outputs": [
    {
     "name": "stdout",
     "output_type": "stream",
     "text": [
      "Answer 10:\n",
      "{200.0: 568245, 304.0: 97782, 302.0: 30292, 404.0: 23511, 403.0: 4741, 401.0: 46, 501.0: 43, 500.0: 42, 400.0: 15, 36403.0: 3, 2555.0: 3, 441.0: 2, 9585.0: 1, 0.0: 1, 2881.0: 1, 884.0: 1, 2366.0: 1, 30720.0: 1, 2323.0: 1, 17188.0: 1, 784.0: 1, 2868.0: 1, 1469.0: 1, 1268.0: 1, 167.0: 1, 819.0: 1, 593.0: 1, 3185.0: 1, 2786.0: 1}\n"
     ]
    }
   ],
   "source": [
    "def response_code_distribution() -> dict[int, int]:\n",
    "    \"\"\"\n",
    "    Q10: HTTP response code distribution.\n",
    "\n",
    "    Objective:\n",
    "        Count how often each HTTP status code appears in the logs.\n",
    "\n",
    "    Returns:\n",
    "        dict: A dictionary mapping HTTP status codes (as int) to their frequency.\n",
    "              Example: {200: 150000, 404: 3000}\n",
    "    \"\"\"\n",
    "\n",
    "    return df['status'].value_counts().to_dict()\n",
    "\n",
    "answer10 = response_code_distribution()\n",
    "print(\"Answer 10:\")\n",
    "print(answer10)"
   ]
  }
 ],
 "metadata": {
  "kernelspec": {
   "display_name": "base",
   "language": "python",
   "name": "python3"
  },
  "language_info": {
   "codemirror_mode": {
    "name": "ipython",
    "version": 3
   },
   "file_extension": ".py",
   "mimetype": "text/x-python",
   "name": "python",
   "nbconvert_exporter": "python",
   "pygments_lexer": "ipython3",
   "version": "3.12.7"
  }
 },
 "nbformat": 4,
 "nbformat_minor": 5
}
